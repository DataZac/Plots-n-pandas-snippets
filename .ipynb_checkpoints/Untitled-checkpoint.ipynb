{
 "cells": [
  {
   "cell_type": "markdown",
   "metadata": {
    "collapsed": true
   },
   "source": [
    "# Table of Contents\n",
    "  * [Pandas / Numpy](#Pandas)\n",
    "  * [Plots](#chapter-2)\n",
    "  \n",
    "  1.10: Everything is an object"
   ]
  },
  {
   "cell_type": "code",
   "execution_count": 2,
   "metadata": {
    "collapsed": false
   },
   "outputs": [
    {
     "name": "stdout",
     "output_type": "stream",
     "text": [
      "[8.0, 6.0]\n"
     ]
    }
   ],
   "source": [
    "from IPython.display import display, Image\n",
    "import math\n",
    "import pandas as pd\n",
    "import numpy as np\n",
    "import matplotlib as mpl\n",
    "import matplotlib.pyplot as plt\n",
    "import seaborn as sns\n",
    "import pdb\n",
    "import os\n",
    "from IPython.display import Image\n",
    "from sklearn.linear_model import LinearRegression, Lasso, LassoCV\n",
    "from sklearn.metrics import mean_squared_error, mean_absolute_error, explained_variance_score,r2_score, log_loss, make_scorer\n",
    "from sklearn.model_selection import train_test_split, cross_val_score, KFold\n",
    "from sklearn.preprocessing import OneHotEncoder\n",
    "from scipy.stats import probplot as qqplot\n",
    "from sklearn.svm.libsvm import predict_proba # need for the log_loss metric\n",
    "import warnings\n",
    "from scipy.stats import poisson\n",
    "import lizec\n",
    "pd.options.display.float_format = '{:.5f}'.format\n",
    "pd.set_option('display.max_columns', 500)\n",
    "plt.style.use('classic')\n",
    "warnings.filterwarnings(\"ignore\", category=DeprecationWarning)\n",
    "pd.options.mode.chained_assignment = None\n",
    "print(plt.rcParams.get('figure.figsize'))\n",
    "plt.rcParams['figure.figsize'] = (6, 4)\n",
    "#%matplotlib inline  "
   ]
  },
  {
   "cell_type": "markdown",
   "metadata": {},
   "source": [
    "# Pandas <a id=\"Pandas\"></a>"
   ]
  },
  {
   "cell_type": "code",
   "execution_count": 40,
   "metadata": {
    "collapsed": false
   },
   "outputs": [
    {
     "name": "stdout",
     "output_type": "stream",
     "text": [
      "         a\n",
      "1  1.17332\n",
      "2  1.21188\n",
      "3  0.60353\n",
      "4      nan\n",
      "5 -0.98105\n",
      "6  2.07743 \n",
      "*****\n",
      "         a\n",
      "1  1.17332\n",
      "2  1.21188\n",
      "3  0.60353\n",
      "4 -0.18876\n",
      "5 -0.98105\n",
      "6  2.07743\n"
     ]
    }
   ],
   "source": [
    "# interpolate missing values\n",
    "import pandas as pd\n",
    "import numpy as np\n",
    "df = pd.DataFrame(np.random.randn(6,1), index = ['1','2','3','4','5','6'], columns = ['a'])\n",
    "df.iloc[3]=np.nan\n",
    "print(df, \"\\n*****\")\n",
    "print(df.interpolate())"
   ]
  },
  {
   "cell_type": "code",
   "execution_count": 41,
   "metadata": {
    "collapsed": false
   },
   "outputs": [
    {
     "data": {
      "text/html": [
       "<div>\n",
       "<style>\n",
       "    .dataframe thead tr:only-child th {\n",
       "        text-align: right;\n",
       "    }\n",
       "\n",
       "    .dataframe thead th {\n",
       "        text-align: left;\n",
       "    }\n",
       "\n",
       "    .dataframe tbody tr th {\n",
       "        vertical-align: top;\n",
       "    }\n",
       "</style>\n",
       "<table border=\"1\" class=\"dataframe\">\n",
       "  <thead>\n",
       "    <tr style=\"text-align: right;\">\n",
       "      <th></th>\n",
       "      <th>a</th>\n",
       "      <th>OverallQual_0</th>\n",
       "      <th>OverallQual_1</th>\n",
       "      <th>OverallQual_2</th>\n",
       "      <th>OverallQual_3</th>\n",
       "      <th>OverallQual_4</th>\n",
       "      <th>OverallQual_5</th>\n",
       "      <th>OverallQual_6</th>\n",
       "      <th>OverallQual_7</th>\n",
       "      <th>OverallQual_8</th>\n",
       "    </tr>\n",
       "  </thead>\n",
       "  <tbody>\n",
       "    <tr>\n",
       "      <th>0</th>\n",
       "      <td>0</td>\n",
       "      <td>1</td>\n",
       "      <td>0</td>\n",
       "      <td>0</td>\n",
       "      <td>0</td>\n",
       "      <td>0</td>\n",
       "      <td>0</td>\n",
       "      <td>0</td>\n",
       "      <td>0</td>\n",
       "      <td>0</td>\n",
       "    </tr>\n",
       "  </tbody>\n",
       "</table>\n",
       "</div>"
      ],
      "text/plain": [
       "   a  OverallQual_0  OverallQual_1  OverallQual_2  OverallQual_3  \\\n",
       "0  0              1              0              0              0   \n",
       "\n",
       "   OverallQual_4  OverallQual_5  OverallQual_6  OverallQual_7  OverallQual_8  \n",
       "0              0              0              0              0              0  "
      ]
     },
     "execution_count": 41,
     "metadata": {},
     "output_type": "execute_result"
    }
   ],
   "source": [
    "# encode a categorical variable\n",
    "import pandas as pd\n",
    "df = pd.DataFrame({'a':[0,1,2,3,2,1,3,4,5,0,1,2,3,4,5,6,7,8,2,1,3,4,5,5,3,2,1,]})\n",
    "enc = OneHotEncoder()\n",
    "df2 = pd.get_dummies(df.a, prefix='OverallQual')\n",
    "#df.a.value_counts().sort_index()\n",
    "df3 = pd.concat([df,df2], axis = 1)\n",
    "df3.head(1)"
   ]
  },
  {
   "cell_type": "code",
   "execution_count": 42,
   "metadata": {
    "collapsed": false
   },
   "outputs": [
    {
     "name": "stdout",
     "output_type": "stream",
     "text": [
      "                 JE  TE  DE\n",
      "Deck Status Urs            \n",
      "KH   AOK    A     1   1   2\n",
      "            B     2   1   2\n",
      "            C     2   2   1\n",
      "     DOK    A     2   2   2\n",
      "            B     2   2   1\n",
      "            C     2   2   2\n",
      "     ROK    A     2   2   1\n",
      "            B     2   2   1\n",
      "            C     1   2   1           JE  TE  DE\n",
      "Deck Urs            \n",
      "KH   A     5   5   5\n",
      "     B     6   5   4\n",
      "     C     5   6   4\n"
     ]
    },
    {
     "data": {
      "text/html": [
       "<div>\n",
       "<style>\n",
       "    .dataframe thead tr:only-child th {\n",
       "        text-align: right;\n",
       "    }\n",
       "\n",
       "    .dataframe thead th {\n",
       "        text-align: left;\n",
       "    }\n",
       "\n",
       "    .dataframe tbody tr th {\n",
       "        vertical-align: top;\n",
       "    }\n",
       "</style>\n",
       "<table border=\"1\" class=\"dataframe\">\n",
       "  <thead>\n",
       "    <tr style=\"text-align: right;\">\n",
       "      <th></th>\n",
       "      <th></th>\n",
       "      <th></th>\n",
       "      <th>JE</th>\n",
       "      <th>TE</th>\n",
       "      <th>DE</th>\n",
       "      <th>JErel</th>\n",
       "    </tr>\n",
       "    <tr>\n",
       "      <th>Deck</th>\n",
       "      <th>Status</th>\n",
       "      <th>Urs</th>\n",
       "      <th></th>\n",
       "      <th></th>\n",
       "      <th></th>\n",
       "      <th></th>\n",
       "    </tr>\n",
       "  </thead>\n",
       "  <tbody>\n",
       "    <tr>\n",
       "      <th rowspan=\"9\" valign=\"top\">KH</th>\n",
       "      <th rowspan=\"3\" valign=\"top\">AOK</th>\n",
       "      <th>A</th>\n",
       "      <td>1</td>\n",
       "      <td>1</td>\n",
       "      <td>2</td>\n",
       "      <td>0.20000</td>\n",
       "    </tr>\n",
       "    <tr>\n",
       "      <th>B</th>\n",
       "      <td>2</td>\n",
       "      <td>1</td>\n",
       "      <td>2</td>\n",
       "      <td>0.40000</td>\n",
       "    </tr>\n",
       "    <tr>\n",
       "      <th>C</th>\n",
       "      <td>2</td>\n",
       "      <td>2</td>\n",
       "      <td>1</td>\n",
       "      <td>0.40000</td>\n",
       "    </tr>\n",
       "    <tr>\n",
       "      <th rowspan=\"3\" valign=\"top\">DOK</th>\n",
       "      <th>A</th>\n",
       "      <td>2</td>\n",
       "      <td>2</td>\n",
       "      <td>2</td>\n",
       "      <td>0.33333</td>\n",
       "    </tr>\n",
       "    <tr>\n",
       "      <th>B</th>\n",
       "      <td>2</td>\n",
       "      <td>2</td>\n",
       "      <td>1</td>\n",
       "      <td>0.33333</td>\n",
       "    </tr>\n",
       "    <tr>\n",
       "      <th>C</th>\n",
       "      <td>2</td>\n",
       "      <td>2</td>\n",
       "      <td>2</td>\n",
       "      <td>0.33333</td>\n",
       "    </tr>\n",
       "    <tr>\n",
       "      <th rowspan=\"3\" valign=\"top\">ROK</th>\n",
       "      <th>A</th>\n",
       "      <td>2</td>\n",
       "      <td>2</td>\n",
       "      <td>1</td>\n",
       "      <td>0.40000</td>\n",
       "    </tr>\n",
       "    <tr>\n",
       "      <th>B</th>\n",
       "      <td>2</td>\n",
       "      <td>2</td>\n",
       "      <td>1</td>\n",
       "      <td>0.40000</td>\n",
       "    </tr>\n",
       "    <tr>\n",
       "      <th>C</th>\n",
       "      <td>1</td>\n",
       "      <td>2</td>\n",
       "      <td>1</td>\n",
       "      <td>0.20000</td>\n",
       "    </tr>\n",
       "  </tbody>\n",
       "</table>\n",
       "</div>"
      ],
      "text/plain": [
       "                 JE  TE  DE   JErel\n",
       "Deck Status Urs                    \n",
       "KH   AOK    A     1   1   2 0.20000\n",
       "            B     2   1   2 0.40000\n",
       "            C     2   2   1 0.40000\n",
       "     DOK    A     2   2   2 0.33333\n",
       "            B     2   2   1 0.33333\n",
       "            C     2   2   2 0.33333\n",
       "     ROK    A     2   2   1 0.40000\n",
       "            B     2   2   1 0.40000\n",
       "            C     1   2   1 0.20000"
      ]
     },
     "execution_count": 42,
     "metadata": {},
     "output_type": "execute_result"
    }
   ],
   "source": [
    "df=pd.DataFrame(np.random.randint(1,3,27).reshape((9,3)),index=[['KH','KH','KH','KH','KH','KH','KH','KH','KH'],['AOK','AOK','AOK','DOK','DOK','DOK','ROK','ROK','ROK'],['A','B','C','A','B','C','A','B','C']], columns=['JE','TE','DE'])\n",
    "df.index.names = ['Deck','Status','Urs']\n",
    "df.sum(level=[0,1])\n",
    "print(df,df.sum(level=[0,2]))\n",
    "df.loc[('KH','AOK')]\n",
    "\n",
    "df.loc[('KH','AOK')]['JE'].sum()\n",
    "df['JErel'] = df.JE.div(df.groupby(level=['Deck','Status']).JE.transform('sum'))\n",
    "df['JErel'] = df.JE.div(df.groupby(level=['Deck','Status']).JE.transform('sum'))\n",
    "df"
   ]
  },
  {
   "cell_type": "code",
   "execution_count": 43,
   "metadata": {
    "collapsed": false
   },
   "outputs": [
    {
     "data": {
      "text/html": [
       "<div>\n",
       "<style>\n",
       "    .dataframe thead tr:only-child th {\n",
       "        text-align: right;\n",
       "    }\n",
       "\n",
       "    .dataframe thead th {\n",
       "        text-align: left;\n",
       "    }\n",
       "\n",
       "    .dataframe tbody tr th {\n",
       "        vertical-align: top;\n",
       "    }\n",
       "</style>\n",
       "<table border=\"1\" class=\"dataframe\">\n",
       "  <thead>\n",
       "    <tr style=\"text-align: right;\">\n",
       "      <th></th>\n",
       "      <th></th>\n",
       "      <th></th>\n",
       "      <th>JE</th>\n",
       "      <th>TE</th>\n",
       "      <th>DE</th>\n",
       "      <th>JErel</th>\n",
       "    </tr>\n",
       "    <tr>\n",
       "      <th>Deck</th>\n",
       "      <th>Status</th>\n",
       "      <th>Urs</th>\n",
       "      <th></th>\n",
       "      <th></th>\n",
       "      <th></th>\n",
       "      <th></th>\n",
       "    </tr>\n",
       "  </thead>\n",
       "  <tbody>\n",
       "    <tr>\n",
       "      <th rowspan=\"9\" valign=\"top\">KH</th>\n",
       "      <th rowspan=\"3\" valign=\"top\">AOK</th>\n",
       "      <th>A</th>\n",
       "      <td>1.00000</td>\n",
       "      <td>1.00000</td>\n",
       "      <td>2.00000</td>\n",
       "      <td>0.20000</td>\n",
       "    </tr>\n",
       "    <tr>\n",
       "      <th>B</th>\n",
       "      <td>2.00000</td>\n",
       "      <td>1.00000</td>\n",
       "      <td>2.00000</td>\n",
       "      <td>0.40000</td>\n",
       "    </tr>\n",
       "    <tr>\n",
       "      <th>C</th>\n",
       "      <td>2.00000</td>\n",
       "      <td>2.00000</td>\n",
       "      <td>1.00000</td>\n",
       "      <td>0.40000</td>\n",
       "    </tr>\n",
       "    <tr>\n",
       "      <th rowspan=\"3\" valign=\"top\">DOK</th>\n",
       "      <th>A</th>\n",
       "      <td>2.00000</td>\n",
       "      <td>2.00000</td>\n",
       "      <td>2.00000</td>\n",
       "      <td>0.33333</td>\n",
       "    </tr>\n",
       "    <tr>\n",
       "      <th>B</th>\n",
       "      <td>2.00000</td>\n",
       "      <td>2.00000</td>\n",
       "      <td>1.00000</td>\n",
       "      <td>0.33333</td>\n",
       "    </tr>\n",
       "    <tr>\n",
       "      <th>C</th>\n",
       "      <td>2.00000</td>\n",
       "      <td>2.00000</td>\n",
       "      <td>2.00000</td>\n",
       "      <td>0.33333</td>\n",
       "    </tr>\n",
       "    <tr>\n",
       "      <th rowspan=\"3\" valign=\"top\">ROK</th>\n",
       "      <th>A</th>\n",
       "      <td>2.00000</td>\n",
       "      <td>2.00000</td>\n",
       "      <td>1.00000</td>\n",
       "      <td>0.40000</td>\n",
       "    </tr>\n",
       "    <tr>\n",
       "      <th>B</th>\n",
       "      <td>2.00000</td>\n",
       "      <td>2.00000</td>\n",
       "      <td>1.00000</td>\n",
       "      <td>0.40000</td>\n",
       "    </tr>\n",
       "    <tr>\n",
       "      <th>C</th>\n",
       "      <td>1.00000</td>\n",
       "      <td>2.00000</td>\n",
       "      <td>1.00000</td>\n",
       "      <td>0.20000</td>\n",
       "    </tr>\n",
       "    <tr>\n",
       "      <th>DK</th>\n",
       "      <th>AOK</th>\n",
       "      <th>A</th>\n",
       "      <td>0.00000</td>\n",
       "      <td>nan</td>\n",
       "      <td>nan</td>\n",
       "      <td>nan</td>\n",
       "    </tr>\n",
       "  </tbody>\n",
       "</table>\n",
       "</div>"
      ],
      "text/plain": [
       "                     JE      TE      DE   JErel\n",
       "Deck Status Urs                                \n",
       "KH   AOK    A   1.00000 1.00000 2.00000 0.20000\n",
       "            B   2.00000 1.00000 2.00000 0.40000\n",
       "            C   2.00000 2.00000 1.00000 0.40000\n",
       "     DOK    A   2.00000 2.00000 2.00000 0.33333\n",
       "            B   2.00000 2.00000 1.00000 0.33333\n",
       "            C   2.00000 2.00000 2.00000 0.33333\n",
       "     ROK    A   2.00000 2.00000 1.00000 0.40000\n",
       "            B   2.00000 2.00000 1.00000 0.40000\n",
       "            C   1.00000 2.00000 1.00000 0.20000\n",
       "DK   AOK    A   0.00000     nan     nan     nan"
      ]
     },
     "execution_count": 43,
     "metadata": {},
     "output_type": "execute_result"
    }
   ],
   "source": [
    "df.loc[('DK','AOK','A'),'JE'] = 0\n",
    "df"
   ]
  },
  {
   "cell_type": "code",
   "execution_count": 31,
   "metadata": {
    "collapsed": false
   },
   "outputs": [
    {
     "name": "stdout",
     "output_type": "stream",
     "text": [
      "(2, 4, 4, 3)\n",
      "(2, 48)\n",
      "(96,)\n"
     ]
    }
   ],
   "source": [
    "arr = np.array(\\\n",
    "              [\\\n",
    "                  [\\\n",
    "                   [[.11,.12,.13],[.14,.15,.16],[.17,.18,.19],[.110,.111, .112]],\n",
    "                   [[.21,.22,.23],[.24,.25,.26],[.27,.28,.29],[.210,.211, .212]],\n",
    "                   [[.31,.32,.33],[.34,.35,.36],[.37,.38,.39],[.310,.311, .312]],\n",
    "                   [[.41,.42,.43],[.44,.45,.46],[.47,.48,.49],[.410,.411, .412]]\\\n",
    "                   ],\n",
    "                  [\\\n",
    "                   [[1.1,1.2,1.3],[1.4,1.5,1.6],[1.7,1.8,1.9],[1.110,1.111, 1.112]],\n",
    "                   [[1.21,1.22,1.23],[1.24,1.25,1.26],[1.27,1.28,1.29],[1.210,1.211, 1.212]],\n",
    "                   [[1.31,1.32,1.33],[1.34,1.35,1.36],[1.37,1.38,1.39],[1.310,1.311, 1.312]],\n",
    "                   [[1.41,1.42,1.43],[1.44,1.45,1.46],[1.47,1.48,1.49],[1.410,1.411, 1.412]]\\\n",
    "                   ]])\n",
    "print(str(arr.shape))\n",
    "print(np.reshape(arr,(-1, 48)).shape)\n",
    "print(np.reshape(arr,(-1)).shape)"
   ]
  },
  {
   "cell_type": "markdown",
   "metadata": {},
   "source": [
    "# Plots <a id=\"chapter-2\"></a>"
   ]
  },
  {
   "cell_type": "code",
   "execution_count": 4,
   "metadata": {
    "collapsed": false
   },
   "outputs": [
    {
     "name": "stdout",
     "output_type": "stream",
     "text": [
      "(10000, 2)\n",
      "           child_id  cash_present  month  year\n",
      "2016-11-08      Eve      0.792382     11  2016\n",
      "2017-10-15    Alice      0.315077     10  2017\n",
      "2016-07-07      Bob      0.351121      7  2016\n",
      "2017-04-27      Eve      0.449133      4  2017\n",
      "2016-07-04   Alexey      0.678471      7  2016\n"
     ]
    },
    {
     "data": {
      "image/png": "[encoded data removed]",
      "text/plain": [
       "<matplotlib.figure.Figure at 0x3fe7f26240>"
      ]
     },
     "metadata": {},
     "output_type": "display_data"
    }
   ],
   "source": [
    "#https://pandas.pydata.org/pandas-docs/stable/generated/pandas.cut.html\n",
    "#https://stackoverflow.com/questions/33151463/time-binning-dataframe-with-pandas\n",
    "#https://stackoverflow.com/questions/39002122/binning-time-series-with-pandas\n",
    "#https://pandas.pydata.org/pandas-docs/stable/categorical.html\n",
    "# https://stackoverflow.com/questions/30244952/python-pandas-create-new-column-with-groupby-sum    \n",
    "from datetime import datetime\n",
    "import numpy as np\n",
    "import pandas as pd\n",
    "import datetime as dt\n",
    "import random\n",
    "import matplotlib.pyplot as plt\n",
    " \n",
    "def rnd_date():\n",
    "        year = random.choice(range(2016, 2018))\n",
    "        month = random.choice(range(1, 13))\n",
    "        day = random.choice(range(1, 29))\n",
    "        return datetime(random.choice(range(2016, 2018)), month, day)\n",
    "\n",
    "child_list = ['Alice','Eve','Bob','Alexey']    \n",
    "index = np.array([rnd_date() for i in range(10000)])\n",
    "child_id = np.array([random.choice(child_list) for i in range(10000)])\n",
    "cash_present = np.array([random.random() for i in range(10000)], dtype='float')\n",
    "data = np.column_stack((child_id, cash_present))\n",
    "print(data.shape)\n",
    "\n",
    "x = pd.DataFrame(data , columns = ['child_id', 'cash_present'], index = index)\n",
    "x.cash_present = x.cash_present.astype('float')\n",
    "x['month'] = x.index.month\n",
    "x['year'] = x.index.year\n",
    "#x.set_index([x.month,x.year], inplace = True)\n",
    "print(x.head())\n",
    "\n",
    "y = x[['child_id', 'cash_present']].groupby([x.month,x.year]).sum()\n",
    "y.plot(kind = 'bar', figsize = (16,7))\n",
    "plt.show()"
   ]
  },
  {
   "cell_type": "markdown",
   "metadata": {},
   "source": [
    "### Create random a date, a date_range by using a time_delta. Check if date is in date_range"
   ]
  },
  {
   "cell_type": "code",
   "execution_count": 70,
   "metadata": {
    "collapsed": false
   },
   "outputs": [
    {
     "name": "stdout",
     "output_type": "stream",
     "text": [
      "2018-02-02 00:00:00\n",
      "1 days 00:00:00\n",
      "2018-02-03 00:00:00\n",
      "DatetimeIndex(['2018-02-02', '2018-02-03'], dtype='datetime64[ns]', freq='D')\n",
      "True\n",
      "False\n"
     ]
    }
   ],
   "source": [
    "from datetime import datetime\n",
    "import numpy as np\n",
    "import pandas as pd\n",
    "import datetime as dt\n",
    "import random\n",
    "import matplotlib.pyplot as plt\n",
    " \n",
    "def rnd_date():\n",
    "        year = 2018#random.choice(range(2018, 2018))\n",
    "        month = 2#random.choice(range(1, 2))\n",
    "        day = 2#random.choice(range(1, 29))\n",
    "        return datetime(year, month, day)\n",
    "x = rnd_date()    \n",
    "print(x)\n",
    "print(pd.Timedelta('1d'))\n",
    "print(x+pd.Timedelta('1d'))\n",
    "y = x+pd.Timedelta('1d')\n",
    "trange = pd.date_range(start = x, end = y)\n",
    "print(trange)\n",
    "print(y in trange)\n",
    "print(y+pd.Timedelta('1d') in trange)\n",
    "\n"
   ]
  },
  {
   "cell_type": "markdown",
   "metadata": {},
   "source": [
    "### Given 2 tables with Id's and corresponding dates. Check if for a spcific Id the dates from one table coincide with the dates from the other.\n",
    "###### 1. Uses  date -> date_ranges +/- 1 day to increase the time range for matching dates\n",
    "###### 2. Hint: Flattening multi occurenges of dates for a specific Id into an arry. The array's are elements of a dataframe. The dataframes from 2 tables are then joined and the date from one table is compared with all date ranges in the list of the other"
   ]
  },
  {
   "cell_type": "code",
   "execution_count": 7,
   "metadata": {
    "collapsed": false
   },
   "outputs": [
    {
     "name": "stdout",
     "output_type": "stream",
     "text": [
      "\n",
      " This is C: \n",
      "         c_cr c_id\n",
      "0 2018-01-12    A\n",
      "1 2018-01-10    B\n",
      "2 2018-01-02    B\n",
      "3 2018-01-13    A\n",
      "4 2018-01-04    A\n",
      "\n",
      " This is M: \n",
      "         m_cr m_id\n",
      "0 2018-01-05    A\n",
      "1 2018-01-08    B\n",
      "2 2018-01-13    B\n",
      "3 2018-01-26    A\n",
      "4 2018-01-14    A\n",
      "\n",
      " This is C: \n",
      "   c_id  \\\n",
      "0    A   \n",
      "1    B   \n",
      "\n",
      "                                                                                                                                                                                                                                                                                                                                                                                                     c_cr  \n",
      "0  [[2018-01-11 00:00:00, 2018-01-12 00:00:00, 2018-01-13 00:00:00], [2018-01-12 00:00:00, 2018-01-13 00:00:00, 2018-01-14 00:00:00], [2018-01-03 00:00:00, 2018-01-04 00:00:00, 2018-01-05 00:00:00], [2018-01-17 00:00:00, 2018-01-18 00:00:00, 2018-01-19 00:00:00], [2018-01-25 00:00:00, 2018-01-26 00:00:00, 2018-01-27 00:00:00], [2018-01-14 00:00:00, 2018-01-15 00:00:00, 2018-01-16 00:00:00]]  \n",
      "1                                                                                                                                    [[2018-01-09 00:00:00, 2018-01-10 00:00:00, 2018-01-11 00:00:00], [2018-01-01 00:00:00, 2018-01-02 00:00:00, 2018-01-03 00:00:00], [2018-01-21 00:00:00, 2018-01-22 00:00:00, 2018-01-23 00:00:00], [2018-01-25 00:00:00, 2018-01-26 00:00:00, 2018-01-27 00:00:00]]  \n",
      "\n",
      " This is X. Notice the lists with date_ranges as dataframe elements: \n",
      "\n",
      "         m_cr m_id c_id  \\\n",
      "0 2018-01-05    A    A   \n",
      "1 2018-01-26    A    A   \n",
      "2 2018-01-14    A    A   \n",
      "3 2018-01-04    A    A   \n",
      "4 2018-01-21    A    A   \n",
      "\n",
      "                                                                                                                                                                                                                                                                                                                                                                                                     c_cr  \n",
      "0  [[2018-01-11 00:00:00, 2018-01-12 00:00:00, 2018-01-13 00:00:00], [2018-01-12 00:00:00, 2018-01-13 00:00:00, 2018-01-14 00:00:00], [2018-01-03 00:00:00, 2018-01-04 00:00:00, 2018-01-05 00:00:00], [2018-01-17 00:00:00, 2018-01-18 00:00:00, 2018-01-19 00:00:00], [2018-01-25 00:00:00, 2018-01-26 00:00:00, 2018-01-27 00:00:00], [2018-01-14 00:00:00, 2018-01-15 00:00:00, 2018-01-16 00:00:00]]  \n",
      "1  [[2018-01-11 00:00:00, 2018-01-12 00:00:00, 2018-01-13 00:00:00], [2018-01-12 00:00:00, 2018-01-13 00:00:00, 2018-01-14 00:00:00], [2018-01-03 00:00:00, 2018-01-04 00:00:00, 2018-01-05 00:00:00], [2018-01-17 00:00:00, 2018-01-18 00:00:00, 2018-01-19 00:00:00], [2018-01-25 00:00:00, 2018-01-26 00:00:00, 2018-01-27 00:00:00], [2018-01-14 00:00:00, 2018-01-15 00:00:00, 2018-01-16 00:00:00]]  \n",
      "2  [[2018-01-11 00:00:00, 2018-01-12 00:00:00, 2018-01-13 00:00:00], [2018-01-12 00:00:00, 2018-01-13 00:00:00, 2018-01-14 00:00:00], [2018-01-03 00:00:00, 2018-01-04 00:00:00, 2018-01-05 00:00:00], [2018-01-17 00:00:00, 2018-01-18 00:00:00, 2018-01-19 00:00:00], [2018-01-25 00:00:00, 2018-01-26 00:00:00, 2018-01-27 00:00:00], [2018-01-14 00:00:00, 2018-01-15 00:00:00, 2018-01-16 00:00:00]]  \n",
      "3  [[2018-01-11 00:00:00, 2018-01-12 00:00:00, 2018-01-13 00:00:00], [2018-01-12 00:00:00, 2018-01-13 00:00:00, 2018-01-14 00:00:00], [2018-01-03 00:00:00, 2018-01-04 00:00:00, 2018-01-05 00:00:00], [2018-01-17 00:00:00, 2018-01-18 00:00:00, 2018-01-19 00:00:00], [2018-01-25 00:00:00, 2018-01-26 00:00:00, 2018-01-27 00:00:00], [2018-01-14 00:00:00, 2018-01-15 00:00:00, 2018-01-16 00:00:00]]  \n",
      "4  [[2018-01-11 00:00:00, 2018-01-12 00:00:00, 2018-01-13 00:00:00], [2018-01-12 00:00:00, 2018-01-13 00:00:00, 2018-01-14 00:00:00], [2018-01-03 00:00:00, 2018-01-04 00:00:00, 2018-01-05 00:00:00], [2018-01-17 00:00:00, 2018-01-18 00:00:00, 2018-01-19 00:00:00], [2018-01-25 00:00:00, 2018-01-26 00:00:00, 2018-01-27 00:00:00], [2018-01-14 00:00:00, 2018-01-15 00:00:00, 2018-01-16 00:00:00]]  \n"
     ]
    }
   ],
   "source": [
    "import numpy as np\n",
    "import pandas as pd\n",
    "import datetime as dt\n",
    "import random\n",
    "import matplotlib.pyplot as plt\n",
    "from pprint import pprint\n",
    "pd.set_option('display.max_colwidth',100000)\n",
    "pd.set_option('display.max_rows', 50)\n",
    "'''\n",
    "pd.set_option('precision', 3)\n",
    "pd.set_option('display.max_columns', 500)\n",
    "\n",
    "pd.set_option('display.float_format', lambda x: '%.10f' % x)\n",
    "pd.set_option('display.width', 2700)\n",
    "\n",
    "''' \n",
    "def rnd_date():\n",
    "    ye = 2018#random.choice(range(2018, 2018))\n",
    "    mo = random.choice(range(1, 2))\n",
    "    da = random.choice(range(1, 29))\n",
    "    return dt.datetime(ye, mo, da)\n",
    "\n",
    "dummy = list('ABBAAABAABAB')\n",
    "C = pd.DataFrame({'c_id': dummy, 'c_cr':[rnd_date() for i in range(len(dummy))]})\n",
    "print('\\n This is C: \\n',C.head())\n",
    "\n",
    "\n",
    "dummy = list('ABBAAABAABABAACDAABABCDBEBABBCBFGEHDSJUIXLBABGDEBCUBABA')\n",
    "M = pd.DataFrame({'m_id': dummy, 'm_cr':[rnd_date() for i in range(len(dummy))]})\n",
    "print('\\n This is M: \\n',M.head())\n",
    "\n",
    "def func(x):\n",
    "    #print(type(x),type(x[0]))\n",
    "    L = []\n",
    "    for i in x:\n",
    "        i = pd.to_datetime(i, format='%Y.%m.%d')\n",
    "        i = pd.date_range(start = i-pd.Timedelta('1d'), end = i+pd.Timedelta('1d'))\n",
    "        L.append(i)\n",
    "    return L\n",
    "\n",
    "C = pd.DataFrame(C.groupby(['c_id'])['c_cr'].unique().apply(lambda x: func(x)).reset_index())\n",
    "print('\\n This is C: \\n',C)\n",
    "\n",
    "X = pd.merge(M,C, left_on = 'm_id', right_on = 'c_id')\n",
    "print('\\n This is X. Notice the lists with date_ranges as dataframe elements: \\n\\n',X.head())"
   ]
  },
  {
   "cell_type": "markdown",
   "metadata": {},
   "source": [
    "Apply row-wise function to compare the dates and date_ranges:"
   ]
  },
  {
   "cell_type": "code",
   "execution_count": 9,
   "metadata": {
    "collapsed": false
   },
   "outputs": [
    {
     "name": "stdout",
     "output_type": "stream",
     "text": [
      "\n",
      " This is X with the verified-column. This columns tells if coiinciding dates were found. Check c_cr and m_cr by hand to veryfy\n",
      "\n",
      "\n",
      "         m_cr m_id c_id  verified  \\\n",
      "0 2018-01-05    A    A         1   \n",
      "1 2018-01-26    A    A         1   \n",
      "2 2018-01-14    A    A         1   \n",
      "3 2018-01-04    A    A         1   \n",
      "4 2018-01-21    A    A         0   \n",
      "\n",
      "                                                                                                                                                                                                                                                                                                                                                                                                     c_cr  \n",
      "0  [[2018-01-11 00:00:00, 2018-01-12 00:00:00, 2018-01-13 00:00:00], [2018-01-12 00:00:00, 2018-01-13 00:00:00, 2018-01-14 00:00:00], [2018-01-03 00:00:00, 2018-01-04 00:00:00, 2018-01-05 00:00:00], [2018-01-17 00:00:00, 2018-01-18 00:00:00, 2018-01-19 00:00:00], [2018-01-25 00:00:00, 2018-01-26 00:00:00, 2018-01-27 00:00:00], [2018-01-14 00:00:00, 2018-01-15 00:00:00, 2018-01-16 00:00:00]]  \n",
      "1  [[2018-01-11 00:00:00, 2018-01-12 00:00:00, 2018-01-13 00:00:00], [2018-01-12 00:00:00, 2018-01-13 00:00:00, 2018-01-14 00:00:00], [2018-01-03 00:00:00, 2018-01-04 00:00:00, 2018-01-05 00:00:00], [2018-01-17 00:00:00, 2018-01-18 00:00:00, 2018-01-19 00:00:00], [2018-01-25 00:00:00, 2018-01-26 00:00:00, 2018-01-27 00:00:00], [2018-01-14 00:00:00, 2018-01-15 00:00:00, 2018-01-16 00:00:00]]  \n",
      "2  [[2018-01-11 00:00:00, 2018-01-12 00:00:00, 2018-01-13 00:00:00], [2018-01-12 00:00:00, 2018-01-13 00:00:00, 2018-01-14 00:00:00], [2018-01-03 00:00:00, 2018-01-04 00:00:00, 2018-01-05 00:00:00], [2018-01-17 00:00:00, 2018-01-18 00:00:00, 2018-01-19 00:00:00], [2018-01-25 00:00:00, 2018-01-26 00:00:00, 2018-01-27 00:00:00], [2018-01-14 00:00:00, 2018-01-15 00:00:00, 2018-01-16 00:00:00]]  \n",
      "3  [[2018-01-11 00:00:00, 2018-01-12 00:00:00, 2018-01-13 00:00:00], [2018-01-12 00:00:00, 2018-01-13 00:00:00, 2018-01-14 00:00:00], [2018-01-03 00:00:00, 2018-01-04 00:00:00, 2018-01-05 00:00:00], [2018-01-17 00:00:00, 2018-01-18 00:00:00, 2018-01-19 00:00:00], [2018-01-25 00:00:00, 2018-01-26 00:00:00, 2018-01-27 00:00:00], [2018-01-14 00:00:00, 2018-01-15 00:00:00, 2018-01-16 00:00:00]]  \n",
      "4  [[2018-01-11 00:00:00, 2018-01-12 00:00:00, 2018-01-13 00:00:00], [2018-01-12 00:00:00, 2018-01-13 00:00:00, 2018-01-14 00:00:00], [2018-01-03 00:00:00, 2018-01-04 00:00:00, 2018-01-05 00:00:00], [2018-01-17 00:00:00, 2018-01-18 00:00:00, 2018-01-19 00:00:00], [2018-01-25 00:00:00, 2018-01-26 00:00:00, 2018-01-27 00:00:00], [2018-01-14 00:00:00, 2018-01-15 00:00:00, 2018-01-16 00:00:00]]  \n"
     ]
    }
   ],
   "source": [
    "def func2(x):\n",
    "    for i in (x.c_cr):\n",
    "        if x.m_cr in i:\n",
    "            return 1\n",
    "    return 0\n",
    "    #print(x['c_id'])\n",
    "    \n",
    "X['verified'] = X.apply(lambda x: func2(x), axis = 1)\n",
    "cols = ['m_cr', 'm_id', 'c_id','verified', 'c_cr']\n",
    "X = X[cols]\n",
    "\n",
    "print('\\n This is X with the verified-column. This columns tells if coiinciding dates were found.\\\n",
    " Check c_cr and m_cr by hand to veryfy\\n\\n\\n', X.head())\n",
    "#pprint(X.info())"
   ]
  },
  {
   "cell_type": "code",
   "execution_count": 44,
   "metadata": {
    "collapsed": false
   },
   "outputs": [
    {
     "data": {
      "image/png": "[encoded data removed]",
      "text/plain": [
       "<matplotlib.figure.Figure at 0x76f19f2e80>"
      ]
     },
     "metadata": {},
     "output_type": "display_data"
    },
    {
     "name": "stdout",
     "output_type": "stream",
     "text": [
      "RMSE a(red) and b(blue)\n",
      "12.551814566233379 10.246416255739897\n",
      "RMSE a(red) and b(blue) only 'core quantiles'\n"
     ]
    }
   ],
   "source": [
    "def calc_rmse(sumofresids, n):#Equal name: rms-Deviation. RMSE=Variance(of y-hat) + Bias (of y-hat and y)\n",
    "    \"\"\"\n",
    "    Args:\n",
    "    sum of resids (int):sum of squared residuals\n",
    "    n (int): sample size\n",
    "    \n",
    "    Returns:\n",
    "    rmse (float): root mean of sum of squared residuals\n",
    "    \n",
    "    \"\"\" \n",
    "    \n",
    "    rmse = math.sqrt(sumofresids/n)\n",
    "    return rmse\n",
    "\n",
    "import numpy as np\n",
    "import pandas as pd\n",
    "\n",
    "speedlimita= -0.5\n",
    "speedlimitb= 20\n",
    "speedlimitc= 10\n",
    "a = np.random.normal(speedlimita,15,(1000,1))\n",
    "b = np.random.normal(speedlimitb,8,(1000,1))\n",
    "c = np.random.normal(speedlimitc,5,(1000,1))\n",
    "\n",
    "\n",
    "\n",
    "d = np.append(a,b, axis = 1)\n",
    "d = np.append(d,c, axis = 1)\n",
    "import matplotlib.pyplot as plt\n",
    "df = pd.DataFrame(data = d, columns=['a','b','c'])\n",
    "\n",
    "\n",
    "df.head()\n",
    "fig = plt.figure(figsize=(15, 6))\n",
    "ax = fig.add_subplot(1,2,1)\n",
    "ax.scatter(df.c.quantile([.1,.2,.3,.4,.5,.6,.7,.8,.9]).tolist(),df.a.quantile([.1,.2,.3,.4,.5,.6,.7,.8,.9]).tolist(), color = 'red')\n",
    "ax.scatter(df.c.quantile([.1,.2,.3,.4,.5,.6,.7,.8,.9]).tolist(),df.b.quantile([.1,.2,.3,.4,.5,.6,.7,.8,.9]).tolist(),color = 'blue')\n",
    "ax.plot(df.c.quantile([.1,.2,.3,.4,.5,.6,.7,.8,.9]).tolist(),df.c.quantile([.1,.2,.3,.4,.5,.6,.7,.8,.9]).tolist(),color = 'black')\n",
    "\n",
    "ax = fig.add_subplot(1,2,2)\n",
    "ax.hist(df.a,bins = 10, alpha = 0.3, color = 'red',normed = True)\n",
    "ax.axvline(x=speedlimita, color = 'red')\n",
    "ax.hist(df.b,bins = 10, alpha = 0.3, color = 'blue',normed = True)\n",
    "ax.axvline(x=speedlimitb, color = 'blue')\n",
    "ax.hist(df.c,bins = 10, alpha = 0.75, color = 'grey',normed = True)\n",
    "\n",
    "plt.show()\n",
    "\n",
    "a = (df.c.quantile([.1,.2,.3,.4,.5,.6,.7,.8,.9])-df.a.quantile([.1,.2,.3,.4,.5,.6,.7,.8,.9])).apply(lambda x: x*x).sum()\n",
    "b = (df.c.quantile([.1,.2,.3,.4,.5,.6,.7,.8,.9])-df.b.quantile([.1,.2,.3,.4,.5,.6,.7,.8,.9])).apply(lambda x: x*x).sum()\n",
    "#calc_rmse((df.c.quantile([.1,.2,.3,.4,.5,.6,.7,.8,.9]-df.a.quantile([.1,.2,.3,.4,.5,.6,.7,.8,.9]).apply(lambda x: x*x).sum())\n",
    "print(\"RMSE a(red) and b(blue)\")\n",
    "print(calc_rmse(a,9),calc_rmse(b,9))\n",
    "\n",
    "\n",
    "a = (df.c.quantile([.4,.5,.6])-df.a.quantile([.1,.2,.3,.4,.5,.6,.7,.8,.9])).apply(lambda x: x*x).sum()\n",
    "b = (df.c.quantile([.4,.5,.6])-df.b.quantile([.1,.2,.3,.4,.5,.6,.7,.8,.9])).apply(lambda x: x*x).sum()\n",
    "#calc_rmse((df.c.quantile([.1,.2,.3,.4,.5,.6,.7,.8,.9]-df.a.quantile([.1,.2,.3,.4,.5,.6,.7,.8,.9]).apply(lambda x: x*x).sum())\n",
    "print(\"RMSE a(red) and b(blue) only 'core quantiles'\")\n",
    "#print(calc_rmse(a,9),calc_rmse(b,9))"
   ]
  },
  {
   "cell_type": "code",
   "execution_count": 45,
   "metadata": {
    "collapsed": false
   },
   "outputs": [
    {
     "name": "stdout",
     "output_type": "stream",
     "text": [
      "count   10000.00000\n",
      "mean       19.99460\n",
      "std         4.48705\n",
      "min         4.00000\n",
      "1%         10.00000\n",
      "3%         12.00000\n",
      "25%        17.00000\n",
      "50%        20.00000\n",
      "75%        23.00000\n",
      "97%        29.00000\n",
      "99%        31.00000\n",
      "max        41.00000\n",
      "Name: X, dtype: float64\n"
     ]
    },
    {
     "data": {
      "image/png": "[encoded data removed]",
      "text/plain": [
       "<matplotlib.figure.Figure at 0x76f19966d8>"
      ]
     },
     "metadata": {},
     "output_type": "display_data"
    }
   ],
   "source": [
    "#__________bins use werden nur für df.X richtig berechnet. df2.Y NUR für theoretisches plotten\n",
    "df=pd.DataFrame({'X' : np.random.poisson(20,10000)})\n",
    "df2=pd.DataFrame({'Y' : np.random.poisson(20,10000)})\n",
    "why=df.X.max()-df.X.min()\n",
    "\n",
    "\n",
    "lizt2=np.arange(df.X.min(), df.X.max(), 1)#list for theo. poisson\n",
    "lizt=np.arange(df.X.min()+0.5, df.X.max()+0.5, 1)#list for centering the bins\n",
    "\n",
    "\n",
    "n, bins, patches = plt.hist(df.X,bins=lizt, normed=True,alpha=1)#normed for relative frequency\n",
    "n2, bins2, patches2 = plt.hist(df2.Y,bins=lizt, normed=True, alpha=0.5)#normed for relative frequency\n",
    "\n",
    "\n",
    "theor=poisson.pmf(lizt2,20)#calculate poisson for every discrete data point\n",
    "plt.plot(bins, theor, '--')\n",
    "print(df.X.describe([0.01,0.03,0.25,0.75,0.97,0.99]))\n",
    "\n",
    "\n",
    "plt.show()"
   ]
  },
  {
   "cell_type": "code",
   "execution_count": 46,
   "metadata": {
    "collapsed": false
   },
   "outputs": [
    {
     "name": "stdout",
     "output_type": "stream",
     "text": [
      "3.99997913838 4.49963146755\n"
     ]
    },
    {
     "data": {
      "text/plain": [
       "<matplotlib.figure.Figure at 0x76f1f427f0>"
      ]
     },
     "metadata": {},
     "output_type": "display_data"
    },
    {
     "data": {
      "image/png": "[encoded data removed]",
      "text/plain": [
       "<matplotlib.figure.Figure at 0x76f1f74fd0>"
      ]
     },
     "metadata": {},
     "output_type": "display_data"
    }
   ],
   "source": [
    "a = np.random.ranf(10000)*4\n",
    "b = np.random.ranf(10000)*4.5\n",
    "plt.style.use('bmh')\n",
    "print(a.max(), b.max())\n",
    "left = 0\n",
    "right = max(a.max(),b.max())\n",
    "fig = plt.figure()\n",
    "\n",
    "aa = pd.Series(a, index = range(1,10001))\n",
    "bb = pd.Series(a, index = range(1,10001))\n",
    "\"\"\"\n",
    "ax = fig.add_subplot(1,1,1)\n",
    "ax.hist(a,bins = 10, range=(left,right), alpha = 0.3, color = 'green',normed = True)\n",
    "\n",
    "ax.hist(b,bins = 10, range=(left,right), alpha = 0.3, color = 'blue',normed = True)\n",
    "plt.show()\n",
    "\n",
    "\"\"\"\n",
    "fig = plt.figure()\n",
    "ax = fig.add_subplot(1,1,1)\n",
    "n, bins, patches = ax.hist(a,bins = 10, range=(left,right), alpha = 0.5, color = 'g',normed = True,\\\n",
    "                           stacked=False)\n",
    "\n",
    "n2, bins2, patches2 = ax.hist(b,bins = bins, alpha = 0.3, color = 'r',normed = True, stacked=False)\n",
    "ax.text(5,0.2,'Mean 1:   {}\\n'\n",
    "                'Median 1: {}\\n'\n",
    "        'Mean 2:   {}\\n'\n",
    "                'Median 2: {}\\n'.format(aa.mean(),bb.mean(),aa.median(),bb.median()))\n",
    "ax.axvline(x=aa.mean(), color = 'g', linestyle='--')\n",
    "ax.axvline(x=aa.median(), color = 'g')\n",
    "\n",
    "plt.show()\n"
   ]
  },
  {
   "cell_type": "code",
   "execution_count": 47,
   "metadata": {
    "collapsed": false
   },
   "outputs": [
    {
     "data": {
      "image/png": "[encoded data removed]",
      "text/plain": [
       "<matplotlib.figure.Figure at 0x76f19e2d30>"
      ]
     },
     "metadata": {},
     "output_type": "display_data"
    }
   ],
   "source": [
    "#colormap\n",
    "import seaborn as sns\n",
    "\n",
    "\n",
    "a = np.arange(0,1.02,.02)\n",
    "b = np.arange(0,1.02,.02)\n",
    "values = np.random.normal(0,5,51)\n",
    "#values = [1,2,3]\n",
    "jet=plt.get_cmap('coolwarm')\n",
    "#sns.heatmap(correlDataFrame, vmax=.8, square=True, cmap=\"YlGnBu\")\n",
    "plt.scatter(a,b, c=values, cmap = jet)\n",
    "plt.colorbar()\n",
    "plt.show()"
   ]
  },
  {
   "cell_type": "code",
   "execution_count": 48,
   "metadata": {
    "collapsed": false
   },
   "outputs": [
    {
     "data": {
      "image/png": "[encoded data removed]",
      "text/plain": [
       "<matplotlib.figure.Figure at 0x76f1fc9128>"
      ]
     },
     "metadata": {},
     "output_type": "display_data"
    }
   ],
   "source": [
    "dff = pd.DataFrame(np.random.randn(10,3), columns=list('ABC'),index=list('abcdefghij'))\n",
    "dff['D'] = list('xzyyxyxywx')\n",
    "a=dff['A'].groupby(dff.D).sum()\n",
    "b=dff['B'].groupby(dff.D).sum()\n",
    "dff['C']=dff['C'].fillna('Unbekannt')\n",
    "\n",
    "dff.iloc[3:5,0] = np.nan\n",
    "\n",
    "dff.iloc[4:6,1] = np.nan\n",
    "\n",
    "dff.iloc[5:8,2] = np.nan\n",
    "\n",
    "dfff=pd.DataFrame([a,b]).T\n",
    "dfff.B=dfff.A/dfff.B\n",
    "dfff.B=dfff.B\n",
    "\n",
    "\n",
    "plt.style.use('ggplot')\n",
    "fig = plt.figure()\n",
    "ax = fig.add_subplot(111)\n",
    "\n",
    "\n",
    "ind = np.arange(len(dfff))#Anzahl der Ursachen auf der x-Achse\n",
    "indname=list(dfff.index)#String-Namen für X-label\n",
    "\n",
    "ax.bar(ind+0.1, dfff.A, 0.45, color='#deb0b0',edgecolor='black', align='center')#vordergrund bars\n",
    "\n",
    "\n",
    "ax.bar(ind, dfff.B, 0.35, color='#b0c4de',edgecolor='black', align='center')#hintergrund bars\n",
    "\n",
    "plt.xticks(ind,indname)\n",
    "ax.yaxis.set_ticks_position(\"left\")\n",
    "\n",
    "\n",
    "ax.set_xlabel('Ursache')\n",
    "ax.set_ylabel('Anzahl gemeldete Schaeden', color='red')\n",
    "\n",
    "\n",
    "#axes.set_ylim([ymin,ymax])\n",
    "\n",
    "plt.tight_layout()\n",
    "plt.show()"
   ]
  },
  {
   "cell_type": "code",
   "execution_count": 23,
   "metadata": {
    "collapsed": false
   },
   "outputs": [
    {
     "name": "stdout",
     "output_type": "stream",
     "text": [
      "           a          b         c         d\n",
      "0   6.631196   5.810560  2.080557 -0.570494\n",
      "1   3.951218  -0.141697 -1.799682  6.072020\n",
      "2  10.536391   1.325412  9.066250  1.153826\n",
      "3   6.230277   7.709339 -5.689198 -3.001154\n",
      "4  -0.833909  10.336758  8.167152 -7.612497\n",
      "5  18.958703   0.760016  1.395965 -5.690080\n",
      "6  19.928000  -6.506601  4.055380  4.729200\n",
      "7   4.405831   1.423290  5.017454 -8.934476\n",
      "8   8.413684   3.824247  5.938258 -6.593161\n",
      "9   3.486020  -3.985603  1.920155  1.579590\n",
      "           a         b         c         d\n",
      "0   6.631196  5.810560  2.080557 -0.570494\n",
      "1   3.951218 -0.141697 -1.799682  6.072020\n",
      "2  10.536391  1.325412  9.066250  1.153826\n",
      "5  18.958703  0.760016  1.395965 -5.690080\n",
      "6  19.928000 -6.506601  4.055380  4.729200\n",
      "7   4.405831  1.423290  5.017454 -8.934476\n",
      "8   8.413684  3.824247  5.938258 -6.593161\n",
      "9   3.486020 -3.985603  1.920155  1.579590\n",
      "       b      c      d\n",
      "0  False  False  False\n",
      "1  False  False   True\n",
      "2  False  False  False\n",
      "3   True  False  False\n",
      "4   True   True  False\n",
      "5  False  False  False\n",
      "6  False  False  False\n",
      "7  False   True  False\n",
      "8  False  False  False\n",
      "9  False  False  False\n",
      "0    False\n",
      "1     True\n",
      "2    False\n",
      "3     True\n",
      "4     True\n",
      "5    False\n",
      "6    False\n",
      "7     True\n",
      "8    False\n",
      "9    False\n",
      "dtype: bool\n"
     ]
    },
    {
     "data": {
      "text/html": [
       "<div>\n",
       "<style>\n",
       "    .dataframe thead tr:only-child th {\n",
       "        text-align: right;\n",
       "    }\n",
       "\n",
       "    .dataframe thead th {\n",
       "        text-align: left;\n",
       "    }\n",
       "\n",
       "    .dataframe tbody tr th {\n",
       "        vertical-align: top;\n",
       "    }\n",
       "</style>\n",
       "<table border=\"1\" class=\"dataframe\">\n",
       "  <thead>\n",
       "    <tr style=\"text-align: right;\">\n",
       "      <th></th>\n",
       "      <th>a</th>\n",
       "      <th>b</th>\n",
       "      <th>c</th>\n",
       "      <th>d</th>\n",
       "    </tr>\n",
       "  </thead>\n",
       "  <tbody>\n",
       "    <tr>\n",
       "      <th>1</th>\n",
       "      <td>3.951218</td>\n",
       "      <td>-0.141697</td>\n",
       "      <td>-1.799682</td>\n",
       "      <td>6.072020</td>\n",
       "    </tr>\n",
       "    <tr>\n",
       "      <th>3</th>\n",
       "      <td>6.230277</td>\n",
       "      <td>7.709339</td>\n",
       "      <td>-5.689198</td>\n",
       "      <td>-3.001154</td>\n",
       "    </tr>\n",
       "    <tr>\n",
       "      <th>4</th>\n",
       "      <td>-0.833909</td>\n",
       "      <td>10.336758</td>\n",
       "      <td>8.167152</td>\n",
       "      <td>-7.612497</td>\n",
       "    </tr>\n",
       "    <tr>\n",
       "      <th>7</th>\n",
       "      <td>4.405831</td>\n",
       "      <td>1.423290</td>\n",
       "      <td>5.017454</td>\n",
       "      <td>-8.934476</td>\n",
       "    </tr>\n",
       "  </tbody>\n",
       "</table>\n",
       "</div>"
      ],
      "text/plain": [
       "          a          b         c         d\n",
       "1  3.951218  -0.141697 -1.799682  6.072020\n",
       "3  6.230277   7.709339 -5.689198 -3.001154\n",
       "4 -0.833909  10.336758  8.167152 -7.612497\n",
       "7  4.405831   1.423290  5.017454 -8.934476"
      ]
     },
     "execution_count": 23,
     "metadata": {},
     "output_type": "execute_result"
    }
   ],
   "source": [
    "import numpy as np\n",
    "import pandas as pd\n",
    "a = np.random.normal(1,10,(10,1))\n",
    "b = np.random.normal(1,5,(10,1))\n",
    "c = np.random.normal(1,5,(10,1))\n",
    "d = np.random.normal(1,5,(10,1))\n",
    "\n",
    "e = np.append(a,b, axis = 1)\n",
    "e = np.append(e,c, axis = 1)\n",
    "e = np.append(e,d, axis = 1)\n",
    "\n",
    "df = pd.DataFrame(data = e, columns=['a','b','c','d'])\n",
    "\n",
    "\n",
    "\n",
    "print(df)\n",
    "\n",
    "print(df.loc[df.a > df.b])\n",
    "\n",
    "S = ['b','c','d']\n",
    "\n",
    "print(df[S].gt(df.a, axis = 0))\n",
    "\n",
    "x = df[S].gt(df.a, axis = 0).any(axis = 1)\n",
    "\n",
    "print(x)\n",
    "\n",
    "df.loc[x]"
   ]
  },
  {
   "cell_type": "code",
   "execution_count": null,
   "metadata": {
    "collapsed": true
   },
   "outputs": [],
   "source": []
  }
 ],
 "metadata": {
  "anaconda-cloud": {},
  "kernelspec": {
   "display_name": "Python [default]",
   "language": "python",
   "name": "python3"
  },
  "language_info": {
   "codemirror_mode": {
    "name": "ipython",
    "version": 3
   },
   "file_extension": ".py",
   "mimetype": "text/x-python",
   "name": "python",
   "nbconvert_exporter": "python",
   "pygments_lexer": "ipython3",
   "version": "3.5.2"
  }
 },
 "nbformat": 4,
 "nbformat_minor": 0
}
